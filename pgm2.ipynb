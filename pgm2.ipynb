{
 "cells": [
  {
   "cell_type": "code",
   "execution_count": 1,
   "id": "f6eaf6d9",
   "metadata": {},
   "outputs": [
    {
     "name": "stdout",
     "output_type": "stream",
     "text": [
      "Addition\n",
      "[[ 6  8]\n",
      " [10 12]]\n",
      "Substraction\n",
      "[[-4 -4]\n",
      " [-4 -4]]\n",
      "Multiplication(element)\n",
      "[[ 5 12]\n",
      " [21 32]]\n",
      "Multiplication(row)\n",
      "[[19 22]\n",
      " [43 50]]\n",
      "Transpose\n",
      "[[1 3]\n",
      " [2 4]]\n"
     ]
    }
   ],
   "source": [
    "import numpy as np\n",
    "a=np.array([[1,2],[3,4]])\n",
    "b=np.array([[5,6],[7,8]])\n",
    "c=a+b\n",
    "d=a-b\n",
    "e=a*b \n",
    "f=np.dot(a,b)\n",
    "at=a.T\n",
    "print(\"Addition\")\n",
    "print(c)\n",
    "print(\"Substraction\")\n",
    "print(d)\n",
    "print(\"Multiplication(element)\")\n",
    "print(e)\n",
    "print(\"Multiplication(row)\")\n",
    "print(f)\n",
    "print(\"Transpose\")\n",
    "print(at)"
   ]
  },
  {
   "cell_type": "code",
   "execution_count": 2,
   "id": "a3c8ca06",
   "metadata": {},
   "outputs": [
    {
     "name": "stdout",
     "output_type": "stream",
     "text": [
      "original matrix:\n",
      "[[1 2 3]\n",
      " [4 5 6]\n",
      " [7 8 9]]\n",
      "\n",
      "Reconstructed matrix(with reduced dimensions):\n",
      "[[1. 2. 3.]\n",
      " [4. 5. 6.]\n",
      " [7. 8. 9.]]\n"
     ]
    }
   ],
   "source": [
    "#create a sample matrix\n",
    "x=np.array([[1,2,3],[4,5,6],[7,8,9]])\n",
    "#perform SVD\n",
    "U,S,VT=np.linalg.svd(x)\n",
    "#choose the number of components to keep\n",
    "n_components=2\n",
    "#reconstructed the matrix with reduced dimensions\n",
    "x_reconstructed=np.dot(U[:,:n_components],np.dot(np.diag(S[:n_components]),VT[:n_components,:]))\n",
    "print(\"original matrix:\")\n",
    "print(x)\n",
    "print(\"\\nReconstructed matrix(with reduced dimensions):\")\n",
    "print(x_reconstructed)\n"
   ]
  },
  {
   "cell_type": "code",
   "execution_count": null,
   "id": "223d1c60",
   "metadata": {},
   "outputs": [],
   "source": []
  }
 ],
 "metadata": {
  "kernelspec": {
   "display_name": "Python 3 (ipykernel)",
   "language": "python",
   "name": "python3"
  },
  "language_info": {
   "codemirror_mode": {
    "name": "ipython",
    "version": 3
   },
   "file_extension": ".py",
   "mimetype": "text/x-python",
   "name": "python",
   "nbconvert_exporter": "python",
   "pygments_lexer": "ipython3",
   "version": "3.11.5"
  }
 },
 "nbformat": 4,
 "nbformat_minor": 5
}
