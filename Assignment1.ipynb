{
 "cells": [
  {
   "cell_type": "code",
   "execution_count": 15,
   "id": "9931d965",
   "metadata": {},
   "outputs": [
    {
     "name": "stdout",
     "output_type": "stream",
     "text": [
      "Enter the first number:20\n",
      "Enter the second number:10\n",
      "Sum of two number is= 30\n"
     ]
    }
   ],
   "source": [
    "#ARITHMETIC OPERATORS\n",
    "\n",
    "#Addition of numbers\n",
    "num1=int(input(\"Enter the first number:\"))\n",
    "num2=int(input(\"Enter the second number:\"))\n",
    "sum=num1+num2\n",
    "print(\"Sum of two number is=\",sum)"
   ]
  },
  {
   "cell_type": "code",
   "execution_count": 14,
   "id": "6e792ac0",
   "metadata": {},
   "outputs": [
    {
     "name": "stdout",
     "output_type": "stream",
     "text": [
      "Enter the first number:20\n",
      "Enter the second number:10\n",
      "Substraction of two number is= 10\n"
     ]
    }
   ],
   "source": [
    "#ARITHMETIC OPERATORS\n",
    "\n",
    "#Subtraction of numbers\n",
    "num1=int(input(\"Enter the first number:\"))\n",
    "num2=int(input(\"Enter the second number:\"))\n",
    "sub=num1-num2\n",
    "print(\"Substraction of two number is=\",sub)"
   ]
  },
  {
   "cell_type": "code",
   "execution_count": 12,
   "id": "d26723a0",
   "metadata": {},
   "outputs": [
    {
     "name": "stdout",
     "output_type": "stream",
     "text": [
      "Enter the first number:3\n",
      "Enter the second number:6\n",
      "Multiplication of two number is= 18\n"
     ]
    }
   ],
   "source": [
    "#ARITHMETIC OPERATORS\n",
    "\n",
    "#Multiplication of numbers\n",
    "num1=int(input(\"Enter the first number:\"))\n",
    "num2=int(input(\"Enter the second number:\"))\n",
    "mult=num1*num2\n",
    "print(\"Multiplication of two number is=\",mult)"
   ]
  },
  {
   "cell_type": "code",
   "execution_count": 13,
   "id": "773d51e5",
   "metadata": {},
   "outputs": [
    {
     "name": "stdout",
     "output_type": "stream",
     "text": [
      "Enter the first number:5\n",
      "Enter the second number:2\n",
      "Division of two number is= 2.5\n"
     ]
    }
   ],
   "source": [
    "#ARITHMETIC OPERATORS\n",
    "\n",
    "#Division of numbers\n",
    "num1=int(input(\"Enter the first number:\"))\n",
    "num2=int(input(\"Enter the second number:\"))\n",
    "div=num1/num2\n",
    "print(\"Division of two number is=\",div)"
   ]
  },
  {
   "cell_type": "code",
   "execution_count": 22,
   "id": "94007ae2",
   "metadata": {},
   "outputs": [
    {
     "name": "stdout",
     "output_type": "stream",
     "text": [
      "Hello..World\n"
     ]
    }
   ],
   "source": [
    "#STRING OPERATIONS\n",
    "\n",
    "#print string\n",
    "print(\"Hello..World\")"
   ]
  },
  {
   "cell_type": "code",
   "execution_count": 28,
   "id": "be694466",
   "metadata": {},
   "outputs": [
    {
     "name": "stdout",
     "output_type": "stream",
     "text": [
      "o\n"
     ]
    }
   ],
   "source": [
    "#STRING OPERATIONS\n",
    "\n",
    "#Idexing\n",
    "a=(\"Hello..World\")\n",
    "print(a[4])"
   ]
  },
  {
   "cell_type": "code",
   "execution_count": 18,
   "id": "7d8e67ef",
   "metadata": {},
   "outputs": [
    {
     "name": "stdout",
     "output_type": "stream",
     "text": [
      "HELLO WORLD\n",
      "good morning\n"
     ]
    }
   ],
   "source": [
    "#STRING OPERATIONS\n",
    "\n",
    "#To UpperCase and LowerCase\n",
    "a=\"Hello World\"\n",
    "b=\"GOOD MORNING\"\n",
    "print(a.upper())\n",
    "print(b.lower())"
   ]
  },
  {
   "cell_type": "code",
   "execution_count": 20,
   "id": "53fb73c2",
   "metadata": {},
   "outputs": [
    {
     "name": "stdout",
     "output_type": "stream",
     "text": [
      "11\n"
     ]
    }
   ],
   "source": [
    "#STRING OPERATIONS\n",
    "\n",
    "#Length of the string\n",
    "a=\"Hello World\"\n",
    "print(len(a))"
   ]
  },
  {
   "cell_type": "code",
   "execution_count": 17,
   "id": "72e931f5",
   "metadata": {},
   "outputs": [
    {
     "name": "stdout",
     "output_type": "stream",
     "text": [
      "Python is Awesome..!\n"
     ]
    }
   ],
   "source": [
    "#STRING OPERATIONS\n",
    "\n",
    "#String concatination\n",
    "a=\"Python is \"\n",
    "b=\"Awesome..!\"\n",
    "x=a+b\n",
    "print(x)"
   ]
  },
  {
   "cell_type": "code",
   "execution_count": 23,
   "id": "077b0a43",
   "metadata": {},
   "outputs": [
    {
     "name": "stdout",
     "output_type": "stream",
     "text": [
      "False\n",
      "True\n"
     ]
    }
   ],
   "source": [
    "#STRING OPERATIONS\n",
    "\n",
    "#Compare\n",
    "a=\"HELLO\"\n",
    "b=\"hello\"\n",
    "c=\"HELLO\"\n",
    "print(a==b)\n",
    "print(c==a)"
   ]
  },
  {
   "cell_type": "code",
   "execution_count": 25,
   "id": "baca013d",
   "metadata": {},
   "outputs": [
    {
     "name": "stdout",
     "output_type": "stream",
     "text": [
      "hey world\n"
     ]
    }
   ],
   "source": [
    "#STRING OPERATIONS\n",
    "\n",
    "#Replace string\n",
    "a=\"Hello world\"\n",
    "b=a.replace('Hello','hey')\n",
    "print(b)"
   ]
  },
  {
   "cell_type": "code",
   "execution_count": 26,
   "id": "7aea42a2",
   "metadata": {},
   "outputs": [
    {
     "name": "stdout",
     "output_type": "stream",
     "text": [
      "['Hello', 'world']\n"
     ]
    }
   ],
   "source": [
    "#STRING OPERATIONS\n",
    "\n",
    "#Split string\n",
    "a=\"Hello world\"\n",
    "print(a.split())\n"
   ]
  },
  {
   "cell_type": "code",
   "execution_count": 31,
   "id": "1f06f40b",
   "metadata": {},
   "outputs": [
    {
     "name": "stdout",
     "output_type": "stream",
     "text": [
      "Enter numbers:1,2,3,4,5\n",
      "List= ['1', '2', '3', '4', '5']\n"
     ]
    }
   ],
   "source": [
    "#LIST\n",
    "\n",
    "# create a list\n",
    "n=input(\"Enter numbers:\")\n",
    "p=n.split(\",\")\n",
    "print(\"List=\",p)\n"
   ]
  },
  {
   "cell_type": "code",
   "execution_count": 35,
   "id": "9aa76f07",
   "metadata": {},
   "outputs": [
    {
     "name": "stdout",
     "output_type": "stream",
     "text": [
      "Enter colors:red,black,blue\n",
      "first color= red\n",
      "Last color= blue\n",
      "['red', 'black', 'pink', 'green']\n"
     ]
    }
   ],
   "source": [
    "#LIST\n",
    "\n",
    "#list of colors\n",
    "n=input(\"Enter colors:\")\n",
    "p=n.split(\",\")\n",
    "print(\"first color=\",p[0])\n",
    "print(\"Last color=\",p[-1])"
   ]
  },
  {
   "cell_type": "code",
   "execution_count": 39,
   "id": "c044bc23",
   "metadata": {},
   "outputs": [
    {
     "name": "stdout",
     "output_type": "stream",
     "text": [
      "['red', 'black', 'pink', 'green']\n",
      "['red', 'black', 'pink', 'green', 'yellow']\n"
     ]
    }
   ],
   "source": [
    "#LIST\n",
    "##\n",
    "color=[\"red\",\"black\",\"pink\",\"green\"]\n",
    "print(color)\n",
    "\n",
    "#Append\n",
    "color.append(\"yellow\")\n",
    "print(color)"
   ]
  },
  {
   "cell_type": "code",
   "execution_count": 33,
   "id": "9e6ca10b",
   "metadata": {},
   "outputs": [
    {
     "name": "stdout",
     "output_type": "stream",
     "text": [
      "Enter numbers:345678\n",
      "Tuple= ('3', '4', '5', '6', '7', '8')\n"
     ]
    }
   ],
   "source": [
    "#TUPLE\n",
    "\n",
    "#Create tuple\n",
    "t=tuple(input(\"Enter numbers:\"))\n",
    "print(\"Tuple=\",t)"
   ]
  },
  {
   "cell_type": "code",
   "execution_count": 36,
   "id": "9d950ac1",
   "metadata": {},
   "outputs": [
    {
     "name": "stdout",
     "output_type": "stream",
     "text": [
      "Enter numbers:12345678\n",
      "Tuple= ('1', '2', '3', '4', '5', '6', '7', '8')\n",
      "Reversed= ('8', '7', '6', '5', '4', '3', '2', '1')\n"
     ]
    }
   ],
   "source": [
    "#TUPLE\n",
    "\n",
    "#Reverse of a tuple\n",
    "t=tuple(input(\"Enter numbers:\"))\n",
    "print(\"Tuple=\",t)\n",
    "t2=tuple(reversed(t))\n",
    "print(\"Reversed=\",t2)\n",
    "\n"
   ]
  },
  {
   "cell_type": "code",
   "execution_count": 45,
   "id": "7f31c179",
   "metadata": {},
   "outputs": [
    {
     "name": "stdout",
     "output_type": "stream",
     "text": [
      "('apple', 'orange', 'banana', 'grape')\n",
      "4\n",
      "('hello', 5, True, 5.5, 'world')\n",
      "<class 'tuple'>\n"
     ]
    }
   ],
   "source": [
    "#TUPLE\n",
    "\n",
    "a=(\"apple\",\"orange\",\"banana\",\"grape\")\n",
    "print(a)\n",
    "\n",
    "#Tuple length\n",
    "print(len(a))\n",
    "\n",
    "#Different data types\n",
    "b=(\"hello\",5,True,5.5,\"world\")\n",
    "print(b)\n",
    "\n",
    "#Data type\n",
    "tuple=(\"red\",\"green\",\"yellow\")\n",
    "print(type(tuple))"
   ]
  },
  {
   "cell_type": "code",
   "execution_count": 46,
   "id": "e632d174",
   "metadata": {},
   "outputs": [
    {
     "name": "stdout",
     "output_type": "stream",
     "text": [
      "False\n",
      "True\n",
      "False\n"
     ]
    }
   ],
   "source": [
    "#BOOLEAN\n",
    "\n",
    "print(5>9)\n",
    "print(5<9)\n",
    "print(5==9)"
   ]
  },
  {
   "cell_type": "code",
   "execution_count": 47,
   "id": "8999fd3c",
   "metadata": {},
   "outputs": [
    {
     "name": "stdout",
     "output_type": "stream",
     "text": [
      "b is not greater than a\n"
     ]
    }
   ],
   "source": [
    "#BOOLEAN\n",
    "a = 200\n",
    "b = 100\n",
    "\n",
    "if b > a:\n",
    "  print(\"b is greater than a\")\n",
    "else:\n",
    "  print(\"b is not greater than a\") "
   ]
  },
  {
   "cell_type": "code",
   "execution_count": 53,
   "id": "817f9ea0",
   "metadata": {},
   "outputs": [
    {
     "data": {
      "text/plain": [
       "{'name': 'Neena', 'age': 22, 'dept': 'MCA'}"
      ]
     },
     "execution_count": 53,
     "metadata": {},
     "output_type": "execute_result"
    }
   ],
   "source": [
    "#DICTIONARY\n",
    "\n",
    "dict =1 \n",
    "{\n",
    "  \"name\": 'Neena', \n",
    "  \"age\": 22, \n",
    "  \"dept\": 'MCA'\n",
    "}\n",
    "\n",
    "\n",
    "\n",
    "\n"
   ]
  },
  {
   "cell_type": "code",
   "execution_count": null,
   "id": "71a8c0be",
   "metadata": {},
   "outputs": [],
   "source": []
  }
 ],
 "metadata": {
  "kernelspec": {
   "display_name": "Python 3 (ipykernel)",
   "language": "python",
   "name": "python3"
  },
  "language_info": {
   "codemirror_mode": {
    "name": "ipython",
    "version": 3
   },
   "file_extension": ".py",
   "mimetype": "text/x-python",
   "name": "python",
   "nbconvert_exporter": "python",
   "pygments_lexer": "ipython3",
   "version": "3.11.5"
  }
 },
 "nbformat": 4,
 "nbformat_minor": 5
}
