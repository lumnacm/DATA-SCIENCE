{
 "cells": [
  {
   "cell_type": "code",
   "execution_count": 2,
   "id": "e086be2b",
   "metadata": {},
   "outputs": [
    {
     "name": "stdout",
     "output_type": "stream",
     "text": [
      "    cars  passings\n",
      "0    BMW         3\n",
      "1  Volvo         7\n",
      "2   Ford         2\n"
     ]
    }
   ],
   "source": [
    "import pandas\n",
    "mydataset = {\n",
    "  'cars': [\"BMW\", \"Volvo\", \"Ford\"],\n",
    "  'passings': [3, 7, 2]\n",
    "}\n",
    "\n",
    "myvar = pandas.DataFrame(mydataset)\n",
    "\n",
    "print(myvar) "
   ]
  },
  {
   "cell_type": "code",
   "execution_count": 3,
   "id": "c56e0aec",
   "metadata": {},
   "outputs": [
    {
     "name": "stdout",
     "output_type": "stream",
     "text": [
      "    cars  passings\n",
      "0    BMW         3\n",
      "1  Volvo         7\n",
      "2   Ford         2\n"
     ]
    }
   ],
   "source": [
    "import pandas as pd\n",
    "\n",
    "mydataset = {\n",
    "  'cars': [\"BMW\", \"Volvo\", \"Ford\"],\n",
    "  'passings': [3, 7, 2]\n",
    "}\n",
    "\n",
    "myvar = pd.DataFrame(mydataset)\n",
    "\n",
    "print(myvar)"
   ]
  },
  {
   "cell_type": "code",
   "execution_count": 4,
   "id": "3c6b36b4",
   "metadata": {},
   "outputs": [
    {
     "name": "stdout",
     "output_type": "stream",
     "text": [
      "0    1\n",
      "1    7\n",
      "2    2\n",
      "dtype: int64\n"
     ]
    }
   ],
   "source": [
    "#Series\n",
    "\n",
    "import pandas as pd\n",
    "\n",
    "a = [1, 7, 2]\n",
    "\n",
    "myvar = pd.Series(a)\n",
    "\n",
    "print(myvar)"
   ]
  },
  {
   "cell_type": "code",
   "execution_count": 5,
   "id": "77c119df",
   "metadata": {},
   "outputs": [
    {
     "name": "stdout",
     "output_type": "stream",
     "text": [
      "x    1\n",
      "y    7\n",
      "z    2\n",
      "dtype: int64\n"
     ]
    }
   ],
   "source": [
    "#Label\n",
    "\n",
    "import pandas as pd\n",
    "\n",
    "a = [1, 7, 2]\n",
    "\n",
    "myvar = pd.Series(a, index = [\"x\", \"y\", \"z\"])\n",
    "\n",
    "print(myvar)"
   ]
  },
  {
   "cell_type": "code",
   "execution_count": 6,
   "id": "046bcff0",
   "metadata": {},
   "outputs": [
    {
     "name": "stdout",
     "output_type": "stream",
     "text": [
      "day1    420\n",
      "day2    380\n",
      "day3    390\n",
      "dtype: int64\n"
     ]
    }
   ],
   "source": [
    "import pandas as pd\n",
    "\n",
    "calories = {\"day1\": 420, \"day2\": 380, \"day3\": 390}\n",
    "\n",
    "myvar = pd.Series(calories)\n",
    "\n",
    "print(myvar)"
   ]
  },
  {
   "cell_type": "code",
   "execution_count": 11,
   "id": "3ad8a01e",
   "metadata": {},
   "outputs": [
    {
     "name": "stdout",
     "output_type": "stream",
     "text": [
      "   calories  duration\n",
      "0       420        50\n",
      "1       380        40\n",
      "2       390        45\n"
     ]
    }
   ],
   "source": [
    "#Data Frame\n",
    "import pandas as pd\n",
    "\n",
    "data = {\n",
    "  \"calories\": [420, 380, 390],\n",
    "  \"duration\": [50, 40, 45]\n",
    "}\n",
    "\n",
    "#load data into a DataFrame object:\n",
    "df = pd.DataFrame(data)\n",
    "\n",
    "print(df) \n",
    "\n"
   ]
  },
  {
   "cell_type": "code",
   "execution_count": 13,
   "id": "92d65612",
   "metadata": {},
   "outputs": [
    {
     "name": "stdout",
     "output_type": "stream",
     "text": [
      "    Numeric  Numeric-2 Numeric-Suffix\n",
      "0         1          1            1st\n",
      "1         2          2            2nd\n",
      "2         3          3            3rd\n",
      "3         4          4            4th\n",
      "4         5          5            5th\n",
      "5         6          6            6th\n",
      "6         7          7            7th\n",
      "7         8          8            8th\n",
      "8         9          9            9th\n",
      "9        10         10           10th\n",
      "10       11         11           11th\n",
      "11       12         12           12th\n",
      "12       13         13           13th\n",
      "13       14         14           14th\n",
      "14       15         15           15th\n",
      "15       16         16           16th\n",
      "16       17         17           17th\n",
      "17       18         18           18th\n",
      "18       19         19           19th\n",
      "19       20         20           20th\n",
      "20       21         21           21st\n",
      "21       22         22           22nd\n",
      "22       23         23           23rd\n",
      "23       24         24           24th\n",
      "24       25         25           25th\n",
      "25       26         26           26th\n",
      "26       27         27           27th\n",
      "27       28         28           28th\n",
      "28       29         29           29th\n",
      "29       30         30           30th\n",
      "30       31         31           31st\n"
     ]
    }
   ],
   "source": [
    "#CSV\n",
    "import pandas as pd\n",
    "\n",
    "df = pd.read_csv('/home/ksb/Downloads/day.csv')\n",
    "\n",
    "print(df.to_string()) "
   ]
  },
  {
   "cell_type": "code",
   "execution_count": 14,
   "id": "4f875cb1",
   "metadata": {},
   "outputs": [
    {
     "name": "stdout",
     "output_type": "stream",
     "text": [
      "60\n"
     ]
    }
   ],
   "source": [
    "import pandas as pd\n",
    "\n",
    "print(pd.options.display.max_rows) "
   ]
  },
  {
   "cell_type": "code",
   "execution_count": 17,
   "id": "b6cafaa6",
   "metadata": {},
   "outputs": [
    {
     "name": "stdout",
     "output_type": "stream",
     "text": [
      "    Numeric  Numeric-2 Numeric-Suffix\n",
      "0         1          1            1st\n",
      "1         2          2            2nd\n",
      "2         3          3            3rd\n",
      "3         4          4            4th\n",
      "4         5          5            5th\n",
      "5         6          6            6th\n",
      "6         7          7            7th\n",
      "7         8          8            8th\n",
      "8         9          9            9th\n",
      "9        10         10           10th\n",
      "10       11         11           11th\n",
      "11       12         12           12th\n",
      "12       13         13           13th\n",
      "13       14         14           14th\n",
      "14       15         15           15th\n",
      "15       16         16           16th\n",
      "16       17         17           17th\n",
      "17       18         18           18th\n",
      "18       19         19           19th\n",
      "19       20         20           20th\n",
      "20       21         21           21st\n",
      "21       22         22           22nd\n",
      "22       23         23           23rd\n",
      "23       24         24           24th\n",
      "24       25         25           25th\n",
      "25       26         26           26th\n",
      "26       27         27           27th\n",
      "27       28         28           28th\n",
      "28       29         29           29th\n",
      "29       30         30           30th\n",
      "30       31         31           31st\n"
     ]
    }
   ],
   "source": [
    "\n",
    "\n",
    "pd.options.display.max_rows = 9999\n",
    "\n",
    "df = pd.read_csv('/home/ksb/Downloads/day.csv')\n",
    "\n",
    "print(df) "
   ]
  },
  {
   "cell_type": "code",
   "execution_count": null,
   "id": "3a2f03f7",
   "metadata": {},
   "outputs": [],
   "source": []
  },
  {
   "cell_type": "code",
   "execution_count": null,
   "id": "dca3e1e9",
   "metadata": {},
   "outputs": [],
   "source": []
  }
 ],
 "metadata": {
  "kernelspec": {
   "display_name": "Python 3 (ipykernel)",
   "language": "python",
   "name": "python3"
  },
  "language_info": {
   "codemirror_mode": {
    "name": "ipython",
    "version": 3
   },
   "file_extension": ".py",
   "mimetype": "text/x-python",
   "name": "python",
   "nbconvert_exporter": "python",
   "pygments_lexer": "ipython3",
   "version": "3.11.5"
  }
 },
 "nbformat": 4,
 "nbformat_minor": 5
}
