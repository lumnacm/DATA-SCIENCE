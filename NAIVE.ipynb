{
 "cells": [
  {
   "cell_type": "code",
   "execution_count": 1,
   "id": "39e1e922",
   "metadata": {},
   "outputs": [
    {
     "name": "stdout",
     "output_type": "stream",
     "text": [
      "Accuracy:100.00%\n"
     ]
    }
   ],
   "source": [
    "\n",
    "\n",
    "import numpy as np\n",
    "from sklearn import datasets\n",
    "from sklearn.model_selection import train_test_split\n",
    "from sklearn.naive_bayes import GaussianNB\n",
    "from sklearn.metrics import accuracy_score\n",
    "#load the iris dataset\n",
    "iris=datasets.load_iris()\n",
    "X=iris.data #features\n",
    "y=iris.target #target variables\n",
    "#Split the data into training and testing sets(80% training,20%testing)\n",
    "X_train,X_test,y_train,y_test=train_test_split(X,y,test_size=0.2,random_state=42)\n",
    "#create a Gaussian naive bayes classifier\n",
    "nb_classifier=GaussianNB()\n",
    "#train the classifier using the training data\n",
    "nb_classifier.fit(X_train,y_train)\n",
    "#make predictions on the testing data\n",
    "y_pred=nb_classifier.predict(X_test)\n",
    "#calculate the accuracy of the classifier\n",
    "accuracy=accuracy_score(y_test,y_pred)\n",
    "print(f\"Accuracy:{accuracy*100:.2f}%\")\n",
    "\n"
   ]
  },
  {
   "cell_type": "code",
   "execution_count": null,
   "id": "c1f0ee50",
   "metadata": {},
   "outputs": [],
   "source": []
  }
 ],
 "metadata": {
  "kernelspec": {
   "display_name": "Python 3 (ipykernel)",
   "language": "python",
   "name": "python3"
  },
  "language_info": {
   "codemirror_mode": {
    "name": "ipython",
    "version": 3
   },
   "file_extension": ".py",
   "mimetype": "text/x-python",
   "name": "python",
   "nbconvert_exporter": "python",
   "pygments_lexer": "ipython3",
   "version": "3.11.5"
  }
 },
 "nbformat": 4,
 "nbformat_minor": 5
}
