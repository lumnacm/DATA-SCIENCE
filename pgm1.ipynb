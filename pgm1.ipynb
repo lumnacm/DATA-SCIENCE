{
 "cells": [
  {
   "cell_type": "code",
   "execution_count": 1,
   "id": "1ca88070",
   "metadata": {},
   "outputs": [
    {
     "name": "stdout",
     "output_type": "stream",
     "text": [
      "Largest element is: 222\n"
     ]
    }
   ],
   "source": [
    "#largest number from a list\n",
    "list1 = [5, 222, 40, 15, 9]\n",
    " # sorting the list\n",
    "list1.sort()\n",
    "print(\"Largest element is:\", list1[-1])"
   ]
  },
  {
   "cell_type": "code",
   "execution_count": 2,
   "id": "155579b4",
   "metadata": {},
   "outputs": [
    {
     "name": "stdout",
     "output_type": "stream",
     "text": [
      "['g', 'b', 'c', 'a', 'ef']\n"
     ]
    }
   ],
   "source": [
    "#remove duplicate from a  list\n",
    "a= [\"a\", \"b\", \"c\", \"a\", \"c\", \"ef\", \"g\",\"ef\"]\n",
    "print(list(set(a)))\n"
   ]
  },
  {
   "cell_type": "code",
   "execution_count": 3,
   "id": "ad27aa00",
   "metadata": {},
   "outputs": [
    {
     "name": "stdout",
     "output_type": "stream",
     "text": [
      "Enter the name:lumna\n",
      "Enter the age:22\n",
      "First dictionary is: {'name': 'lumna', 'age': '22'}\n",
      "Enter the color:black\n",
      "Enter the flower name:rose\n",
      "second dictionary is: {'color': 'black', 'flower': 'rose'}\n",
      "\n",
      " Merge dictionary is {'name': 'lumna', 'age': '22', 'color': 'black', 'flower': 'rose'}\n"
     ]
    }
   ],
   "source": [
    "#Merge 2 dictionaries\n",
    "d1={}\n",
    "name=input(\"Enter the name:\")\n",
    "age=input(\"Enter the age:\")\n",
    "d1['name']=name\n",
    "d1['age']=age\n",
    "print(\"First dictionary is:\",d1)\n",
    "d2={}\n",
    "color=input(\"Enter the color:\")\n",
    "flower=input(\"Enter the flower name:\")\n",
    "d2['color']=color\n",
    "d2['flower']=flower\n",
    "print(\"second dictionary is:\",d2)\n",
    "d3=d1\n",
    "d1.update(d2)\n",
    "print(\"\\n Merge dictionary is\",d3)"
   ]
  },
  {
   "cell_type": "code",
   "execution_count": 4,
   "id": "aafd103d",
   "metadata": {},
   "outputs": [
    {
     "name": "stdout",
     "output_type": "stream",
     "text": [
      "True\n",
      "False\n"
     ]
    }
   ],
   "source": [
    "#2 list&return true if atleast one common member\n",
    "def common(l1, l2):\n",
    "    result = False\n",
    "    for x in l1:\n",
    "        for y in l2:\n",
    "             if x == y:\n",
    "                result = True\n",
    "                return result \n",
    "    return result\n",
    "a = [1, 2, 3, 4, 5]\n",
    "b = [5, 6, 7, 8, 9]\n",
    "print(common(a, b))\n",
    " \n",
    "a = [1, 2, 3, 4, 5]\n",
    "b = [6, 7, 8, 9]\n",
    "print(common(a, b))\n"
   ]
  },
  {
   "cell_type": "code",
   "execution_count": null,
   "id": "cbbe0fc0",
   "metadata": {},
   "outputs": [],
   "source": []
  }
 ],
 "metadata": {
  "kernelspec": {
   "display_name": "Python 3 (ipykernel)",
   "language": "python",
   "name": "python3"
  },
  "language_info": {
   "codemirror_mode": {
    "name": "ipython",
    "version": 3
   },
   "file_extension": ".py",
   "mimetype": "text/x-python",
   "name": "python",
   "nbconvert_exporter": "python",
   "pygments_lexer": "ipython3",
   "version": "3.11.5"
  }
 },
 "nbformat": 4,
 "nbformat_minor": 5
}
