{
 "cells": [
  {
   "cell_type": "code",
   "execution_count": 9,
   "id": "5c145b93",
   "metadata": {},
   "outputs": [
    {
     "name": "stdout",
     "output_type": "stream",
     "text": [
      "Linear Regression MSE: 0.037113794407976845\n"
     ]
    }
   ],
   "source": [
    "#import  libraries\n",
    "import numpy as np\n",
    "import pandas as pd\n",
    "from sklearn.datasets import load_iris\n",
    "from sklearn.model_selection import train_test_split\n",
    "from sklearn.linear_model import LinearRegression\n",
    "from sklearn.metrics import mean_squared_error\n",
    "#load the bosten housing dataset\n",
    "data = load_iris()\n",
    "X = data.data\n",
    "y = data.target\n",
    "#split the dataset into training and testing sets\\\n",
    "X_train,X_test,y_train,y_test=train_test_split(X,y,test_size=0.2,random_state=42) \n",
    "#Linear regression\n",
    "lr_model = LinearRegression()\n",
    "lr_model.fit(X_train,y_train)\n",
    "lr_predictions = lr_model.predict(X_test)\n",
    "lr_mse = mean_squared_error(y_test,lr_predictions)\n",
    "#prit the mean squred error(MSE) for linear rgression\n",
    "print(f'Linear Regression MSE: {lr_mse}')\n",
    "\n"
   ]
  },
  {
   "cell_type": "code",
   "execution_count": 8,
   "id": "1672dd4b",
   "metadata": {},
   "outputs": [
    {
     "name": "stdout",
     "output_type": "stream",
     "text": [
      "Multiple Linear Regression MSE: 0.037113794407976845\n"
     ]
    }
   ],
   "source": [
    "#import  libraries\n",
    "import numpy as np\n",
    "import pandas as pd\n",
    "from sklearn.datasets import load_iris\n",
    "from sklearn.model_selection import train_test_split\n",
    "from sklearn.linear_model import LinearRegression\n",
    "from sklearn.metrics import mean_squared_error\n",
    "#load the bosten housinf dataset\n",
    "data = load_iris()\n",
    "X = data.data\n",
    "y = data.target\n",
    "#split the dataset into training and testing sets\\\n",
    "X_train,X_test,y_train,y_test=train_test_split(X,y,test_size=0.2,random_state=42) \n",
    "#Multiple Linear regression\n",
    "mlr_model = LinearRegression()\n",
    "mlr_model.fit(X_train,y_train)\n",
    "mlr_predictions = mlr_model.predict(X_test)\n",
    "mlr_mse = mean_squared_error(y_test,mlr_predictions)\n",
    "#prit the mean squred error(MSE) for multiple  Linear regression\n",
    "print(f'Multiple Linear Regression MSE: {mlr_mse}')"
   ]
  },
  {
   "cell_type": "code",
   "execution_count": null,
   "id": "3cc9726c",
   "metadata": {},
   "outputs": [],
   "source": []
  }
 ],
 "metadata": {
  "kernelspec": {
   "display_name": "Python 3 (ipykernel)",
   "language": "python",
   "name": "python3"
  },
  "language_info": {
   "codemirror_mode": {
    "name": "ipython",
    "version": 3
   },
   "file_extension": ".py",
   "mimetype": "text/x-python",
   "name": "python",
   "nbconvert_exporter": "python",
   "pygments_lexer": "ipython3",
   "version": "3.11.5"
  }
 },
 "nbformat": 4,
 "nbformat_minor": 5
}
